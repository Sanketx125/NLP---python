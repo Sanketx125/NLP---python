{
 "cells": [
  {
   "cell_type": "code",
   "execution_count": 1,
   "id": "528eb3db-047a-402a-81c2-028a8df2fc3d",
   "metadata": {},
   "outputs": [],
   "source": [
    "import pandas as pd\n",
    "import string"
   ]
  },
  {
   "cell_type": "code",
   "execution_count": 6,
   "id": "8f2f183e-c120-48b3-adbb-f8901d754e4a",
   "metadata": {},
   "outputs": [],
   "source": [
    "df = pd.read_csv(\"IMDB Dataset.csv\")"
   ]
  },
  {
   "cell_type": "code",
   "execution_count": 7,
   "id": "d30858ad-cbb3-4c00-b5eb-ea22c461bbe2",
   "metadata": {},
   "outputs": [
    {
     "data": {
      "text/html": [
       "<div>\n",
       "<style scoped>\n",
       "    .dataframe tbody tr th:only-of-type {\n",
       "        vertical-align: middle;\n",
       "    }\n",
       "\n",
       "    .dataframe tbody tr th {\n",
       "        vertical-align: top;\n",
       "    }\n",
       "\n",
       "    .dataframe thead th {\n",
       "        text-align: right;\n",
       "    }\n",
       "</style>\n",
       "<table border=\"1\" class=\"dataframe\">\n",
       "  <thead>\n",
       "    <tr style=\"text-align: right;\">\n",
       "      <th></th>\n",
       "      <th>review</th>\n",
       "      <th>sentiment</th>\n",
       "    </tr>\n",
       "  </thead>\n",
       "  <tbody>\n",
       "    <tr>\n",
       "      <th>0</th>\n",
       "      <td>One of the other reviewers has mentioned that ...</td>\n",
       "      <td>positive</td>\n",
       "    </tr>\n",
       "    <tr>\n",
       "      <th>1</th>\n",
       "      <td>A wonderful little production. &lt;br /&gt;&lt;br /&gt;The...</td>\n",
       "      <td>positive</td>\n",
       "    </tr>\n",
       "    <tr>\n",
       "      <th>2</th>\n",
       "      <td>I thought this was a wonderful way to spend ti...</td>\n",
       "      <td>positive</td>\n",
       "    </tr>\n",
       "    <tr>\n",
       "      <th>3</th>\n",
       "      <td>Basically there's a family where a little boy ...</td>\n",
       "      <td>negative</td>\n",
       "    </tr>\n",
       "    <tr>\n",
       "      <th>4</th>\n",
       "      <td>Petter Mattei's \"Love in the Time of Money\" is...</td>\n",
       "      <td>positive</td>\n",
       "    </tr>\n",
       "  </tbody>\n",
       "</table>\n",
       "</div>"
      ],
      "text/plain": [
       "                                              review sentiment\n",
       "0  One of the other reviewers has mentioned that ...  positive\n",
       "1  A wonderful little production. <br /><br />The...  positive\n",
       "2  I thought this was a wonderful way to spend ti...  positive\n",
       "3  Basically there's a family where a little boy ...  negative\n",
       "4  Petter Mattei's \"Love in the Time of Money\" is...  positive"
      ]
     },
     "execution_count": 7,
     "metadata": {},
     "output_type": "execute_result"
    }
   ],
   "source": [
    "df.head()"
   ]
  },
  {
   "cell_type": "code",
   "execution_count": 9,
   "id": "2e78bf64-e2dd-4ab0-b501-27fe4564e852",
   "metadata": {},
   "outputs": [
    {
     "data": {
      "text/plain": [
       "(50000, 2)"
      ]
     },
     "execution_count": 9,
     "metadata": {},
     "output_type": "execute_result"
    }
   ],
   "source": [
    "df.shape"
   ]
  },
  {
   "cell_type": "code",
   "execution_count": 15,
   "id": "9f30e42c-8cd9-44b2-a94b-64bfce9c9f9c",
   "metadata": {},
   "outputs": [
    {
     "data": {
      "text/plain": [
       "\"basically there's a family where a little boy (jake) thinks there's a zombie in his closet & his parents are fighting all the time.<br /><br />this movie is slower than a soap opera... and suddenly, jake decides to become rambo and kill the zombie.<br /><br />ok, first of all when you're going to make a film you must decide if its a thriller or a drama! as a drama the movie is watchable. parents are divorcing & arguing like in real life. and then we have jake with his closet which totally ruins all the film! i expected to see a boogeyman similar movie, and instead i watched a drama with some meaningless thriller spots.<br /><br />3 out of 10 just for the well playing parents & descent dialogs. as for the shots with jake: just ignore them.\""
      ]
     },
     "execution_count": 15,
     "metadata": {},
     "output_type": "execute_result"
    }
   ],
   "source": [
    "df['review'][3]"
   ]
  },
  {
   "cell_type": "markdown",
   "id": "4186039c-3cd6-4643-b460-e7d9e7f68e06",
   "metadata": {},
   "source": [
    "---\n",
    "# converting required column in lower case:\n"
   ]
  },
  {
   "cell_type": "code",
   "execution_count": 16,
   "id": "94252b37-bfca-4c28-ac18-0a1fbc5e2fcd",
   "metadata": {},
   "outputs": [
    {
     "data": {
      "text/plain": [
       "0        one of the other reviewers has mentioned that ...\n",
       "1        a wonderful little production. <br /><br />the...\n",
       "2        i thought this was a wonderful way to spend ti...\n",
       "3        basically there's a family where a little boy ...\n",
       "4        petter mattei's \"love in the time of money\" is...\n",
       "                               ...                        \n",
       "49995    i thought this movie did a down right good job...\n",
       "49996    bad plot, bad dialogue, bad acting, idiotic di...\n",
       "49997    i am a catholic taught in parochial elementary...\n",
       "49998    i'm going to have to disagree with the previou...\n",
       "49999    no one expects the star trek movies to be high...\n",
       "Name: review, Length: 50000, dtype: object"
      ]
     },
     "execution_count": 16,
     "metadata": {},
     "output_type": "execute_result"
    }
   ],
   "source": [
    "df['review'] = df['review'].str.lower()\n",
    "df['review']"
   ]
  },
  {
   "cell_type": "markdown",
   "id": "6376ae95-89c0-4433-a71c-05249eb48582",
   "metadata": {},
   "source": [
    "---\n",
    "# Removing html tags in data:"
   ]
  },
  {
   "cell_type": "code",
   "execution_count": 17,
   "id": "dfaf61af-f183-4d14-96f5-76e85623a088",
   "metadata": {},
   "outputs": [],
   "source": [
    "import re # resularization\n",
    "\n",
    "def remove_html_tags(text):\n",
    "    patterns = re.compile('<.*?>')\n",
    "    return patterns.sub(r'', text)"
   ]
  },
  {
   "cell_type": "code",
   "execution_count": 18,
   "id": "a8461e6c-647a-43bd-b40b-7bb8b58248d2",
   "metadata": {},
   "outputs": [
    {
     "data": {
      "text/plain": [
       "0        one of the other reviewers has mentioned that ...\n",
       "1        a wonderful little production. the filming tec...\n",
       "2        i thought this was a wonderful way to spend ti...\n",
       "3        basically there's a family where a little boy ...\n",
       "4        petter mattei's \"love in the time of money\" is...\n",
       "                               ...                        \n",
       "49995    i thought this movie did a down right good job...\n",
       "49996    bad plot, bad dialogue, bad acting, idiotic di...\n",
       "49997    i am a catholic taught in parochial elementary...\n",
       "49998    i'm going to have to disagree with the previou...\n",
       "49999    no one expects the star trek movies to be high...\n",
       "Name: review, Length: 50000, dtype: object"
      ]
     },
     "execution_count": 18,
     "metadata": {},
     "output_type": "execute_result"
    }
   ],
   "source": [
    "df['review'] = df['review'].apply(remove_html_tags)\n",
    "df['review']"
   ]
  },
  {
   "cell_type": "code",
   "execution_count": 19,
   "id": "3d796577-5257-4ffd-b17b-130646ddf662",
   "metadata": {},
   "outputs": [
    {
     "data": {
      "text/plain": [
       "\"basically there's a family where a little boy (jake) thinks there's a zombie in his closet & his parents are fighting all the time.this movie is slower than a soap opera... and suddenly, jake decides to become rambo and kill the zombie.ok, first of all when you're going to make a film you must decide if its a thriller or a drama! as a drama the movie is watchable. parents are divorcing & arguing like in real life. and then we have jake with his closet which totally ruins all the film! i expected to see a boogeyman similar movie, and instead i watched a drama with some meaningless thriller spots.3 out of 10 just for the well playing parents & descent dialogs. as for the shots with jake: just ignore them.\""
      ]
     },
     "execution_count": 19,
     "metadata": {},
     "output_type": "execute_result"
    }
   ],
   "source": [
    "df['review'][3]"
   ]
  },
  {
   "cell_type": "markdown",
   "id": "7e13a33d-cf0a-4703-a8a9-9e0ce1541d53",
   "metadata": {},
   "source": [
    "---\n",
    "\n",
    "# Removing URL's:\n"
   ]
  },
  {
   "cell_type": "code",
   "execution_count": 27,
   "id": "f4d8f9c4-7070-42d7-b281-ee1cb4ae86f4",
   "metadata": {},
   "outputs": [],
   "source": [
    "def remove_urs(text):\n",
    "    patters = re.compile(r'https?://\\S+|www\\.\\S+')\n",
    "    return patters.sub(r'', text)"
   ]
  },
  {
   "cell_type": "code",
   "execution_count": 28,
   "id": "8699c15e-4fbf-4c9f-82f4-8eefb1320617",
   "metadata": {},
   "outputs": [],
   "source": [
    "text1 = 'here we checking url removing or not i use this datasets urs that is https://www.kaggle.com/datasets/lakshmi25npathi/imdb-dataset-of-50k-movie-reviews'"
   ]
  },
  {
   "cell_type": "code",
   "execution_count": 29,
   "id": "9ff0d6ee-b0e3-43e2-a606-193e60329cfe",
   "metadata": {},
   "outputs": [
    {
     "data": {
      "text/plain": [
       "'here we checking url removing or not i use this datasets urs that is '"
      ]
     },
     "execution_count": 29,
     "metadata": {},
     "output_type": "execute_result"
    }
   ],
   "source": [
    "remove_urs(text1)"
   ]
  },
  {
   "cell_type": "markdown",
   "id": "84ddae6e-d4ca-44d0-af8e-25558683fc1a",
   "metadata": {},
   "source": [
    "---\n",
    "\n",
    "# Removing Punctuation:   \n",
    "\n",
    "   * Punctuations is nothing but symbols which is used in language\n"
   ]
  },
  {
   "cell_type": "code",
   "execution_count": 34,
   "id": "166eae0a-4e0a-4204-abc0-c89336b06fb8",
   "metadata": {},
   "outputs": [],
   "source": [
    "import string"
   ]
  },
  {
   "cell_type": "code",
   "execution_count": 35,
   "id": "a56ac4e9-7f5e-4578-8f71-c684cda3fae3",
   "metadata": {},
   "outputs": [
    {
     "data": {
      "text/plain": [
       "'!\"#$%&\\'()*+,-./:;<=>?@[\\\\]^_`{|}~'"
      ]
     },
     "execution_count": 35,
     "metadata": {},
     "output_type": "execute_result"
    }
   ],
   "source": [
    "# all punctualtions are stored in punch\n",
    "punch = string.punctuation\n",
    "\n",
    "punch"
   ]
  },
  {
   "cell_type": "code",
   "execution_count": 36,
   "id": "89b0b5d6-65b1-49e8-b2ab-d0243c00323f",
   "metadata": {},
   "outputs": [],
   "source": [
    "def remove_punctuations(text):\n",
    "    return text.translate(str.maketrans('', '', punch))\n",
    "        "
   ]
  },
  {
   "cell_type": "code",
   "execution_count": 38,
   "id": "01168b80-7e0c-496f-9e7d-b30674246e98",
   "metadata": {},
   "outputs": [
    {
     "data": {
      "text/plain": [
       "0        one of the other reviewers has mentioned that ...\n",
       "1        a wonderful little production the filming tech...\n",
       "2        i thought this was a wonderful way to spend ti...\n",
       "3        basically theres a family where a little boy j...\n",
       "4        petter matteis love in the time of money is a ...\n",
       "                               ...                        \n",
       "49995    i thought this movie did a down right good job...\n",
       "49996    bad plot bad dialogue bad acting idiotic direc...\n",
       "49997    i am a catholic taught in parochial elementary...\n",
       "49998    im going to have to disagree with the previous...\n",
       "49999    no one expects the star trek movies to be high...\n",
       "Name: review, Length: 50000, dtype: object"
      ]
     },
     "execution_count": 38,
     "metadata": {},
     "output_type": "execute_result"
    }
   ],
   "source": [
    "df['review'] = df['review'].apply(remove_punctuations)\n",
    "\n",
    "df['review']"
   ]
  },
  {
   "cell_type": "markdown",
   "id": "af100713-4b12-49ea-9631-f4b62dcc0215",
   "metadata": {},
   "source": [
    "---\n",
    "\n",
    "# Chat Word Treatement:\n",
    "\n",
    "* word like we use in daily social media chatting for example:\n",
    "\n",
    "   * gn = good night\n",
    "   * gm = good moring\n",
    "   * tc = take care\n",
    "   * asap = as soon as possible\n",
    " \n",
    "https://github.com/rishabhverma17/sms_slang_translator/blob/master/slang.txt\n"
   ]
  },
  {
   "cell_type": "code",
   "execution_count": 43,
   "id": "c2307f7a-0fe5-4c01-9aab-8cb9679dcb30",
   "metadata": {},
   "outputs": [],
   "source": [
    "chat_dict = {\n",
    "    \"AFAIK\": \"As Far As I Know\",\n",
    "    \"AFK\": \"Away From Keyboard\",\n",
    "    \"ASAP\": \"As Soon As Possible\",\n",
    "    \"ATK\": \"At The Keyboard\",\n",
    "    \"ATM\": \"At The Moment\",\n",
    "    \"A3\": \"Anytime, Anywhere, Anyplace\",\n",
    "    \"BAK\": \"Back At Keyboard\",\n",
    "    \"BBL\": \"Be Back Later\",\n",
    "    \"BBS\": \"Be Back Soon\",\n",
    "    \"BFN\": \"Bye For Now\",\n",
    "    \"B4N\": \"Bye For Now\",\n",
    "    \"BRB\": \"Be Right Back\",\n",
    "    \"BRT\": \"Be Right There\",\n",
    "    \"BTW\": \"By The Way\",\n",
    "    \"B4\": \"Before\",\n",
    "    \"CU\": \"See You\",\n",
    "    \"CUL8R\": \"See You Later\",\n",
    "    \"CYA\": \"See You\",\n",
    "    \"FAQ\": \"Frequently Asked Questions\",\n",
    "    \"FC\": \"Fingers Crossed\",\n",
    "    \"FWIW\": \"For What It's Worth\",\n",
    "    \"FYI\": \"For Your Information\",\n",
    "    \"GAL\": \"Get A Life\",\n",
    "    \"GG\": \"Good Game\",\n",
    "    \"GN\": \"Good Night\",\n",
    "    \"GMTA\": \"Great Minds Think Alike\",\n",
    "    \"GR8\": \"Great!\",\n",
    "    \"G9\": \"Genius\",\n",
    "    \"IC\": \"I See\",\n",
    "    \"ICQ\": \"I Seek you (also a chat program)\",\n",
    "    \"ILU\": \"I Love You\",\n",
    "    \"IMHO\": \"In My Honest/Humble Opinion\",\n",
    "    \"IMO\": \"In My Opinion\",\n",
    "    \"IOW\": \"In Other Words\",\n",
    "    \"IRL\": \"In Real Life\",\n",
    "    \"KISS\": \"Keep It Simple, Stupid\",\n",
    "    \"LDR\": \"Long Distance Relationship\",\n",
    "    \"LMAO\": \"Laugh My A.. Off\",\n",
    "    \"LOL\": \"Laughing Out Loud\",\n",
    "    \"LTNS\": \"Long Time No See\",\n",
    "    \"L8R\": \"Later\",\n",
    "    \"MTE\": \"My Thoughts Exactly\",\n",
    "    \"M8\": \"Mate\",\n",
    "    \"NRN\": \"No Reply Necessary\",\n",
    "    \"OIC\": \"Oh I See\",\n",
    "    \"PITA\": \"Pain In The A..\",\n",
    "    \"PRT\": \"Party\",\n",
    "    \"PRW\": \"Parents Are Watching\",\n",
    "    \"QPSA?\": \"Que Pasa?\",\n",
    "    \"ROFL\": \"Rolling On The Floor Laughing\",\n",
    "    \"ROFLOL\": \"Rolling On The Floor Laughing Out Loud\",\n",
    "    \"ROTFLMAO\": \"Rolling On The Floor Laughing My A.. Off\",\n",
    "    \"SK8\": \"Skate\",\n",
    "    \"STATS\": \"Your sex and age\",\n",
    "    \"ASL\": \"Age, Sex, Location\",\n",
    "    \"THX\": \"Thank You\",\n",
    "    \"TTFN\": \"Ta-Ta For Now!\",\n",
    "    \"TTYL\": \"Talk To You Later\",\n",
    "    \"U\": \"You\",\n",
    "    \"U2\": \"You Too\",\n",
    "    \"U4E\": \"Yours For Ever\",\n",
    "    \"WB\": \"Welcome Back\",\n",
    "    \"WTF\": \"What The F...\",\n",
    "    \"WTG\": \"Way To Go!\",\n",
    "    \"WUF\": \"Where Are You From?\",\n",
    "    \"W8\": \"Wait...\",\n",
    "    \"7K\": \"Sick:-D Laugher\",\n",
    "    \"TFW\": \"That Feeling When\",\n",
    "    \"MFW\": \"My Face When\",\n",
    "    \"MRW\": \"My Reaction When\",\n",
    "    \"IFYP\": \"I Feel Your Pain\",\n",
    "    \"LOL\": \"Laughing Out Loud\",\n",
    "    \"TNTL\": \"Trying Not To Laugh\",\n",
    "    \"JK\": \"Just Kidding\",\n",
    "    \"IDC\": \"I Don't Care\",\n",
    "    \"ILY\": \"I Love You\",\n",
    "    \"IMU\": \"I Miss You\",\n",
    "    \"ADIH\": \"Another Day In Hell\",\n",
    "    \"ZZZ\": \"Sleeping, Bored, Tired\",\n",
    "    \"WYWH\": \"Wish You Were Here\",\n",
    "    \"TIME\": \"Tears In My Eyes\",\n",
    "    \"BAE\": \"Before Anyone Else\",\n",
    "    \"FIMH\": \"Forever In My Heart\",\n",
    "    \"BSAAW\": \"Big Smile And A Wink\",\n",
    "    \"BWL\": \"Bursting With Laughter\",\n",
    "    \"BFF\": \"Best Friends Forever\",\n",
    "    \"CSL\": \"Can't Stop Laughing\",\n",
    "    'GM': 'Good morning',\n",
    "    \"GN\":\"Good night\"\n",
    "}\n"
   ]
  },
  {
   "cell_type": "code",
   "execution_count": 44,
   "id": "d75b4cb3-5407-4006-93a9-a7808de53eca",
   "metadata": {},
   "outputs": [],
   "source": [
    "def chat_conversion(text):\n",
    "    new_text = []\n",
    "    for w in text.split():\n",
    "        if w.upper() in chat_dict:\n",
    "            new_text.append(chat_dict[w.upper()])\n",
    "        else:\n",
    "            new_text.append(w)\n",
    "    return ' '.join(new_text)"
   ]
  },
  {
   "cell_type": "code",
   "execution_count": 45,
   "id": "df4a85a7-95d8-45d0-a28b-a6d0231bc8d0",
   "metadata": {},
   "outputs": [],
   "source": [
    "text2 = 'gm jan kaisi hai re tu'"
   ]
  },
  {
   "cell_type": "code",
   "execution_count": 46,
   "id": "701ee070-6b23-4afb-beaf-b608425bde74",
   "metadata": {},
   "outputs": [
    {
     "data": {
      "text/plain": [
       "'Good morning jan kaisi hai re tu'"
      ]
     },
     "execution_count": 46,
     "metadata": {},
     "output_type": "execute_result"
    }
   ],
   "source": [
    "chat_conversion(text2)"
   ]
  },
  {
   "cell_type": "markdown",
   "id": "841d9972-82f2-4673-aff6-3792b2cd11e0",
   "metadata": {},
   "source": [
    "---\n",
    "\n",
    "# Spelling Correction:"
   ]
  },
  {
   "cell_type": "code",
   "execution_count": 49,
   "id": "4742dbd6-d7bc-4acb-a71e-b1a45b4ec5be",
   "metadata": {},
   "outputs": [
    {
     "name": "stdout",
     "output_type": "stream",
     "text": [
      "Collecting textblob\n",
      "  Downloading textblob-0.18.0.post0-py3-none-any.whl.metadata (4.5 kB)\n",
      "Requirement already satisfied: nltk>=3.8 in c:\\users\\tonys\\anaconda3\\lib\\site-packages (from textblob) (3.8.1)\n",
      "Requirement already satisfied: click in c:\\users\\tonys\\anaconda3\\lib\\site-packages (from nltk>=3.8->textblob) (8.1.7)\n",
      "Requirement already satisfied: joblib in c:\\users\\tonys\\anaconda3\\lib\\site-packages (from nltk>=3.8->textblob) (1.4.2)\n",
      "Requirement already satisfied: regex>=2021.8.3 in c:\\users\\tonys\\anaconda3\\lib\\site-packages (from nltk>=3.8->textblob) (2023.10.3)\n",
      "Requirement already satisfied: tqdm in c:\\users\\tonys\\anaconda3\\lib\\site-packages (from nltk>=3.8->textblob) (4.66.4)\n",
      "Requirement already satisfied: colorama in c:\\users\\tonys\\anaconda3\\lib\\site-packages (from click->nltk>=3.8->textblob) (0.4.6)\n",
      "Downloading textblob-0.18.0.post0-py3-none-any.whl (626 kB)\n",
      "   ---------------------------------------- 0.0/626.3 kB ? eta -:--:--\n",
      "   ---------------------------------------- 0.0/626.3 kB ? eta -:--:--\n",
      "    --------------------------------------- 10.2/626.3 kB ? eta -:--:--\n",
      "    --------------------------------------- 10.2/626.3 kB ? eta -:--:--\n",
      "   -- ------------------------------------ 41.0/626.3 kB 388.9 kB/s eta 0:00:02\n",
      "   ----- --------------------------------- 92.2/626.3 kB 655.4 kB/s eta 0:00:01\n",
      "   ------------- -------------------------- 204.8/626.3 kB 1.0 MB/s eta 0:00:01\n",
      "   ----------------- ---------------------- 266.2/626.3 kB 1.0 MB/s eta 0:00:01\n",
      "   ------------------------ --------------- 378.9/626.3 kB 1.2 MB/s eta 0:00:01\n",
      "   ------------------------ --------------- 378.9/626.3 kB 1.2 MB/s eta 0:00:01\n",
      "   ------------------------ --------------- 378.9/626.3 kB 1.2 MB/s eta 0:00:01\n",
      "   ------------------------ --------------- 378.9/626.3 kB 1.2 MB/s eta 0:00:01\n",
      "   ------------------------ --------------- 378.9/626.3 kB 1.2 MB/s eta 0:00:01\n",
      "   ------------------------ --------------- 378.9/626.3 kB 1.2 MB/s eta 0:00:01\n",
      "   ------------------------ --------------- 378.9/626.3 kB 1.2 MB/s eta 0:00:01\n",
      "   ------------------------ --------------- 378.9/626.3 kB 1.2 MB/s eta 0:00:01\n",
      "   ------------------------ --------------- 378.9/626.3 kB 1.2 MB/s eta 0:00:01\n",
      "   ------------------------ --------------- 378.9/626.3 kB 1.2 MB/s eta 0:00:01\n",
      "   ------------------------ --------------- 378.9/626.3 kB 1.2 MB/s eta 0:00:01\n",
      "   ------------------------ --------------- 378.9/626.3 kB 1.2 MB/s eta 0:00:01\n",
      "   ------------------------ --------------- 378.9/626.3 kB 1.2 MB/s eta 0:00:01\n",
      "   ------------------------ --------------- 378.9/626.3 kB 1.2 MB/s eta 0:00:01\n",
      "   ------------------------ --------------- 378.9/626.3 kB 1.2 MB/s eta 0:00:01\n",
      "   ------------------------ --------------- 378.9/626.3 kB 1.2 MB/s eta 0:00:01\n",
      "   ------------------------ --------------- 378.9/626.3 kB 1.2 MB/s eta 0:00:01\n",
      "   ------------------------ --------------- 378.9/626.3 kB 1.2 MB/s eta 0:00:01\n",
      "   ------------------------ ------------- 399.4/626.3 kB 336.3 kB/s eta 0:00:01\n",
      "   ------------------------- ------------ 419.8/626.3 kB 349.5 kB/s eta 0:00:01\n",
      "   -------------------------- ----------- 430.1/626.3 kB 344.4 kB/s eta 0:00:01\n",
      "   --------------------------- ---------- 450.6/626.3 kB 339.5 kB/s eta 0:00:01\n",
      "   --------------------------- ---------- 460.8/626.3 kB 335.2 kB/s eta 0:00:01\n",
      "   ---------------------------------- --- 563.2/626.3 kB 397.5 kB/s eta 0:00:01\n",
      "   -------------------------------------  624.6/626.3 kB 432.1 kB/s eta 0:00:01\n",
      "   -------------------------------------- 626.3/626.3 kB 423.7 kB/s eta 0:00:00\n",
      "Installing collected packages: textblob\n",
      "Successfully installed textblob-0.18.0.post0\n",
      "Note: you may need to restart the kernel to use updated packages.\n"
     ]
    }
   ],
   "source": [
    "%pip install textblob\n"
   ]
  },
  {
   "cell_type": "code",
   "execution_count": 50,
   "id": "e3439fa3-b96a-4673-a7ce-3cc796ede3c7",
   "metadata": {},
   "outputs": [],
   "source": [
    "from textblob import TextBlob"
   ]
  },
  {
   "cell_type": "code",
   "execution_count": 51,
   "id": "d856a8a3-85ef-4929-b55c-341aeed67c94",
   "metadata": {},
   "outputs": [],
   "source": [
    "import nltk\n",
    "from nltk.corpus import words\n",
    "from nltk.tokenize import word_tokenize\n",
    "from nltk.metrics.distance import edit_distance\n",
    "\n",
    "# Load the list of valid words\n",
    "word_list = words.words()\n",
    "\n",
    "def correct_spelling(text):\n",
    "    tokens = word_tokenize(text)\n",
    "    corrected_tokens = []\n",
    "    for token in tokens:\n",
    "        # Find the closest word in the dictionary using edit distance\n",
    "        closest_word = min(word_list, key=lambda word: edit_distance(token, word))\n",
    "        corrected_tokens.append(closest_word)\n",
    "    return ' '.join(corrected_tokens)\n",
    "\n",
    "# Example usage:\n",
    "text = \"I luk foward to receving your reply\"\n",
    "corrected_text = correct_spelling(text)\n",
    "print(corrected_text)  # Output: \"I luck forward to receiving your reply\"\n"
   ]
  },
  {
   "cell_type": "code",
   "execution_count": 61,
   "id": "ec160e6a-bcb6-43ed-b1f1-cc56a110e77b",
   "metadata": {},
   "outputs": [],
   "source": [
    "text3 = 'I luk foward to receving your reply'"
   ]
  },
  {
   "cell_type": "code",
   "execution_count": 62,
   "id": "a789e279-0b71-4fe4-a4f5-53eff0a58269",
   "metadata": {},
   "outputs": [
    {
     "data": {
      "text/plain": [
       "'I luck toward to receiving your reply'"
      ]
     },
     "execution_count": 62,
     "metadata": {},
     "output_type": "execute_result"
    }
   ],
   "source": [
    "spelling_correction(text3)"
   ]
  },
  {
   "cell_type": "code",
   "execution_count": null,
   "id": "953f149d-9ab2-4354-a7cc-29b4c9217d6f",
   "metadata": {},
   "outputs": [],
   "source": []
  }
 ],
 "metadata": {
  "kernelspec": {
   "display_name": "Python 3 (ipykernel)",
   "language": "python",
   "name": "python3"
  },
  "language_info": {
   "codemirror_mode": {
    "name": "ipython",
    "version": 3
   },
   "file_extension": ".py",
   "mimetype": "text/x-python",
   "name": "python",
   "nbconvert_exporter": "python",
   "pygments_lexer": "ipython3",
   "version": "3.12.4"
  }
 },
 "nbformat": 4,
 "nbformat_minor": 5
}
